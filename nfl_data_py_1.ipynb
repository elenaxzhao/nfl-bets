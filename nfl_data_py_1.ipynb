{
  "nbformat": 4,
  "nbformat_minor": 0,
  "metadata": {
    "colab": {
      "provenance": []
    },
    "kernelspec": {
      "name": "python3",
      "display_name": "Python 3"
    },
    "language_info": {
      "name": "python"
    }
  },
  "cells": [
    {
      "cell_type": "markdown",
      "source": [
        "## Introduction to NFL Data with Python\n"
      ],
      "metadata": {
        "id": "u9t84zITg5kk"
      }
    },
    {
      "cell_type": "markdown",
      "source": [
        "#### Installing Packages"
      ],
      "metadata": {
        "id": "BEYSa7EZg_Jm"
      }
    },
    {
      "cell_type": "code",
      "execution_count": null,
      "metadata": {
        "id": "R4hsxEl8VLT_"
      },
      "outputs": [],
      "source": [
        "# !pip install nfl_data_py\n",
        "# !pip install pandas\n",
        "# !pip install os\n",
        "# !pip install matplotlib"
      ]
    },
    {
      "cell_type": "markdown",
      "source": [
        "#### Loading in Packages"
      ],
      "metadata": {
        "id": "AlI10TzbhB_Y"
      }
    },
    {
      "cell_type": "code",
      "source": [
        "import nfl_data_py as nfl\n",
        "import pandas as pd\n",
        "import os\n",
        "import urllib.request\n",
        "import matplotlib.pyplot as plt\n",
        "from matplotlib.offsetbox import AnnotationBbox, OffsetImage"
      ],
      "metadata": {
        "id": "HspSTbm9fxBw"
      },
      "execution_count": null,
      "outputs": []
    },
    {
      "cell_type": "markdown",
      "source": [
        "#### Loading in Play-by-Play Data"
      ],
      "metadata": {
        "id": "p5wgClkghEMi"
      }
    },
    {
      "cell_type": "code",
      "source": [
        "pbp = nfl.import_pbp_data([2022])"
      ],
      "metadata": {
        "colab": {
          "base_uri": "https://localhost:8080/"
        },
        "id": "9lDNQ1J8f3jt",
        "outputId": "dc8e0673-4f5a-4115-ed98-a6a64c113e74"
      },
      "execution_count": null,
      "outputs": [
        {
          "output_type": "stream",
          "name": "stdout",
          "text": [
            "2022 done.\n",
            "Downcasting floats.\n"
          ]
        }
      ]
    },
    {
      "cell_type": "markdown",
      "source": [
        "#### Looking at dataset"
      ],
      "metadata": {
        "id": "tV9Fo0cYhXks"
      }
    },
    {
      "cell_type": "code",
      "source": [
        "pbp.shape"
      ],
      "metadata": {
        "colab": {
          "base_uri": "https://localhost:8080/"
        },
        "id": "ssMpQI4FiPdJ",
        "outputId": "aa651795-dbb3-40eb-f605-23c2d0f00413"
      },
      "execution_count": null,
      "outputs": [
        {
          "output_type": "execute_result",
          "data": {
            "text/plain": [
              "(47841, 384)"
            ]
          },
          "metadata": {},
          "execution_count": 22
        }
      ]
    },
    {
      "cell_type": "code",
      "source": [
        "pbp.head()"
      ],
      "metadata": {
        "colab": {
          "base_uri": "https://localhost:8080/",
          "height": 508
        },
        "id": "5e_Ceiz8f5-Z",
        "outputId": "3ba412f1-d48a-4338-ae67-7e7327aa1bb0"
      },
      "execution_count": null,
      "outputs": [
        {
          "output_type": "execute_result",
          "data": {
            "text/plain": [
              "   play_id          game_id old_game_id home_team away_team season_type  week  \\\n",
              "0      1.0  2022_01_BAL_NYJ  2022091107       NYJ       BAL         REG     1   \n",
              "1     43.0  2022_01_BAL_NYJ  2022091107       NYJ       BAL         REG     1   \n",
              "2     68.0  2022_01_BAL_NYJ  2022091107       NYJ       BAL         REG     1   \n",
              "3     89.0  2022_01_BAL_NYJ  2022091107       NYJ       BAL         REG     1   \n",
              "4    115.0  2022_01_BAL_NYJ  2022091107       NYJ       BAL         REG     1   \n",
              "\n",
              "  posteam posteam_type defteam  ... offense_formation  offense_personnel  \\\n",
              "0    None         None    None  ...              None               None   \n",
              "1     NYJ         home     BAL  ...              None               None   \n",
              "2     NYJ         home     BAL  ...        SINGLEBACK   1 RB, 2 TE, 2 WR   \n",
              "3     NYJ         home     BAL  ...           SHOTGUN   1 RB, 2 TE, 2 WR   \n",
              "4     NYJ         home     BAL  ...        SINGLEBACK   1 RB, 2 TE, 2 WR   \n",
              "\n",
              "  defenders_in_box  defense_personnel  number_of_pass_rushers  \\\n",
              "0              NaN               None                     NaN   \n",
              "1              NaN               None                     NaN   \n",
              "2              7.0   3 DL, 4 LB, 4 DB                     NaN   \n",
              "3              6.0   3 DL, 4 LB, 4 DB                     4.0   \n",
              "4              7.0   3 DL, 4 LB, 4 DB                     NaN   \n",
              "\n",
              "                                     players_on_play  \\\n",
              "0                                                      \n",
              "1  47969;53059;42500;46279;53575;48364;46253;5460...   \n",
              "2  53536;43586;53443;42371;42500;44999;43433;3309...   \n",
              "3  53536;43586;42371;53443;42500;44999;43433;3309...   \n",
              "4  53536;43586;53443;42371;42500;44999;43433;3309...   \n",
              "\n",
              "                                     offense_players  \\\n",
              "0                                                      \n",
              "1  00-0036157;00-0035202;00-0037984;00-0029597;00...   \n",
              "2  00-0036924;00-0032466;00-0036979;00-0032234;00...   \n",
              "3  00-0036924;00-0032466;00-0032234;00-0036979;00...   \n",
              "4  00-0036924;00-0032466;00-0036979;00-0032234;00...   \n",
              "\n",
              "                                     defense_players  n_offense  n_defense  \n",
              "0                                                           0.0        0.0  \n",
              "1  00-0035537;00-0032134;00-0034419;00-0036500;00...       11.0       11.0  \n",
              "2  00-0033294;00-0026190;00-0032574;00-0028278;00...       11.0       11.0  \n",
              "3  00-0033294;00-0026190;00-0032574;00-0028278;00...       11.0       11.0  \n",
              "4  00-0033294;00-0026190;00-0032574;00-0028278;00...       11.0       11.0  \n",
              "\n",
              "[5 rows x 384 columns]"
            ],
            "text/html": [
              "\n",
              "  <div id=\"df-ad7adc69-4d0d-4010-bfbf-76fa4bbcb20c\">\n",
              "    <div class=\"colab-df-container\">\n",
              "      <div>\n",
              "<style scoped>\n",
              "    .dataframe tbody tr th:only-of-type {\n",
              "        vertical-align: middle;\n",
              "    }\n",
              "\n",
              "    .dataframe tbody tr th {\n",
              "        vertical-align: top;\n",
              "    }\n",
              "\n",
              "    .dataframe thead th {\n",
              "        text-align: right;\n",
              "    }\n",
              "</style>\n",
              "<table border=\"1\" class=\"dataframe\">\n",
              "  <thead>\n",
              "    <tr style=\"text-align: right;\">\n",
              "      <th></th>\n",
              "      <th>play_id</th>\n",
              "      <th>game_id</th>\n",
              "      <th>old_game_id</th>\n",
              "      <th>home_team</th>\n",
              "      <th>away_team</th>\n",
              "      <th>season_type</th>\n",
              "      <th>week</th>\n",
              "      <th>posteam</th>\n",
              "      <th>posteam_type</th>\n",
              "      <th>defteam</th>\n",
              "      <th>...</th>\n",
              "      <th>offense_formation</th>\n",
              "      <th>offense_personnel</th>\n",
              "      <th>defenders_in_box</th>\n",
              "      <th>defense_personnel</th>\n",
              "      <th>number_of_pass_rushers</th>\n",
              "      <th>players_on_play</th>\n",
              "      <th>offense_players</th>\n",
              "      <th>defense_players</th>\n",
              "      <th>n_offense</th>\n",
              "      <th>n_defense</th>\n",
              "    </tr>\n",
              "  </thead>\n",
              "  <tbody>\n",
              "    <tr>\n",
              "      <th>0</th>\n",
              "      <td>1.0</td>\n",
              "      <td>2022_01_BAL_NYJ</td>\n",
              "      <td>2022091107</td>\n",
              "      <td>NYJ</td>\n",
              "      <td>BAL</td>\n",
              "      <td>REG</td>\n",
              "      <td>1</td>\n",
              "      <td>None</td>\n",
              "      <td>None</td>\n",
              "      <td>None</td>\n",
              "      <td>...</td>\n",
              "      <td>None</td>\n",
              "      <td>None</td>\n",
              "      <td>NaN</td>\n",
              "      <td>None</td>\n",
              "      <td>NaN</td>\n",
              "      <td></td>\n",
              "      <td></td>\n",
              "      <td></td>\n",
              "      <td>0.0</td>\n",
              "      <td>0.0</td>\n",
              "    </tr>\n",
              "    <tr>\n",
              "      <th>1</th>\n",
              "      <td>43.0</td>\n",
              "      <td>2022_01_BAL_NYJ</td>\n",
              "      <td>2022091107</td>\n",
              "      <td>NYJ</td>\n",
              "      <td>BAL</td>\n",
              "      <td>REG</td>\n",
              "      <td>1</td>\n",
              "      <td>NYJ</td>\n",
              "      <td>home</td>\n",
              "      <td>BAL</td>\n",
              "      <td>...</td>\n",
              "      <td>None</td>\n",
              "      <td>None</td>\n",
              "      <td>NaN</td>\n",
              "      <td>None</td>\n",
              "      <td>NaN</td>\n",
              "      <td>47969;53059;42500;46279;53575;48364;46253;5460...</td>\n",
              "      <td>00-0036157;00-0035202;00-0037984;00-0029597;00...</td>\n",
              "      <td>00-0035537;00-0032134;00-0034419;00-0036500;00...</td>\n",
              "      <td>11.0</td>\n",
              "      <td>11.0</td>\n",
              "    </tr>\n",
              "    <tr>\n",
              "      <th>2</th>\n",
              "      <td>68.0</td>\n",
              "      <td>2022_01_BAL_NYJ</td>\n",
              "      <td>2022091107</td>\n",
              "      <td>NYJ</td>\n",
              "      <td>BAL</td>\n",
              "      <td>REG</td>\n",
              "      <td>1</td>\n",
              "      <td>NYJ</td>\n",
              "      <td>home</td>\n",
              "      <td>BAL</td>\n",
              "      <td>...</td>\n",
              "      <td>SINGLEBACK</td>\n",
              "      <td>1 RB, 2 TE, 2 WR</td>\n",
              "      <td>7.0</td>\n",
              "      <td>3 DL, 4 LB, 4 DB</td>\n",
              "      <td>NaN</td>\n",
              "      <td>53536;43586;53443;42371;42500;44999;43433;3309...</td>\n",
              "      <td>00-0036924;00-0032466;00-0036979;00-0032234;00...</td>\n",
              "      <td>00-0033294;00-0026190;00-0032574;00-0028278;00...</td>\n",
              "      <td>11.0</td>\n",
              "      <td>11.0</td>\n",
              "    </tr>\n",
              "    <tr>\n",
              "      <th>3</th>\n",
              "      <td>89.0</td>\n",
              "      <td>2022_01_BAL_NYJ</td>\n",
              "      <td>2022091107</td>\n",
              "      <td>NYJ</td>\n",
              "      <td>BAL</td>\n",
              "      <td>REG</td>\n",
              "      <td>1</td>\n",
              "      <td>NYJ</td>\n",
              "      <td>home</td>\n",
              "      <td>BAL</td>\n",
              "      <td>...</td>\n",
              "      <td>SHOTGUN</td>\n",
              "      <td>1 RB, 2 TE, 2 WR</td>\n",
              "      <td>6.0</td>\n",
              "      <td>3 DL, 4 LB, 4 DB</td>\n",
              "      <td>4.0</td>\n",
              "      <td>53536;43586;42371;53443;42500;44999;43433;3309...</td>\n",
              "      <td>00-0036924;00-0032466;00-0032234;00-0036979;00...</td>\n",
              "      <td>00-0033294;00-0026190;00-0032574;00-0028278;00...</td>\n",
              "      <td>11.0</td>\n",
              "      <td>11.0</td>\n",
              "    </tr>\n",
              "    <tr>\n",
              "      <th>4</th>\n",
              "      <td>115.0</td>\n",
              "      <td>2022_01_BAL_NYJ</td>\n",
              "      <td>2022091107</td>\n",
              "      <td>NYJ</td>\n",
              "      <td>BAL</td>\n",
              "      <td>REG</td>\n",
              "      <td>1</td>\n",
              "      <td>NYJ</td>\n",
              "      <td>home</td>\n",
              "      <td>BAL</td>\n",
              "      <td>...</td>\n",
              "      <td>SINGLEBACK</td>\n",
              "      <td>1 RB, 2 TE, 2 WR</td>\n",
              "      <td>7.0</td>\n",
              "      <td>3 DL, 4 LB, 4 DB</td>\n",
              "      <td>NaN</td>\n",
              "      <td>53536;43586;53443;42371;42500;44999;43433;3309...</td>\n",
              "      <td>00-0036924;00-0032466;00-0036979;00-0032234;00...</td>\n",
              "      <td>00-0033294;00-0026190;00-0032574;00-0028278;00...</td>\n",
              "      <td>11.0</td>\n",
              "      <td>11.0</td>\n",
              "    </tr>\n",
              "  </tbody>\n",
              "</table>\n",
              "<p>5 rows × 384 columns</p>\n",
              "</div>\n",
              "      <button class=\"colab-df-convert\" onclick=\"convertToInteractive('df-ad7adc69-4d0d-4010-bfbf-76fa4bbcb20c')\"\n",
              "              title=\"Convert this dataframe to an interactive table.\"\n",
              "              style=\"display:none;\">\n",
              "        \n",
              "  <svg xmlns=\"http://www.w3.org/2000/svg\" height=\"24px\"viewBox=\"0 0 24 24\"\n",
              "       width=\"24px\">\n",
              "    <path d=\"M0 0h24v24H0V0z\" fill=\"none\"/>\n",
              "    <path d=\"M18.56 5.44l.94 2.06.94-2.06 2.06-.94-2.06-.94-.94-2.06-.94 2.06-2.06.94zm-11 1L8.5 8.5l.94-2.06 2.06-.94-2.06-.94L8.5 2.5l-.94 2.06-2.06.94zm10 10l.94 2.06.94-2.06 2.06-.94-2.06-.94-.94-2.06-.94 2.06-2.06.94z\"/><path d=\"M17.41 7.96l-1.37-1.37c-.4-.4-.92-.59-1.43-.59-.52 0-1.04.2-1.43.59L10.3 9.45l-7.72 7.72c-.78.78-.78 2.05 0 2.83L4 21.41c.39.39.9.59 1.41.59.51 0 1.02-.2 1.41-.59l7.78-7.78 2.81-2.81c.8-.78.8-2.07 0-2.86zM5.41 20L4 18.59l7.72-7.72 1.47 1.35L5.41 20z\"/>\n",
              "  </svg>\n",
              "      </button>\n",
              "      \n",
              "  <style>\n",
              "    .colab-df-container {\n",
              "      display:flex;\n",
              "      flex-wrap:wrap;\n",
              "      gap: 12px;\n",
              "    }\n",
              "\n",
              "    .colab-df-convert {\n",
              "      background-color: #E8F0FE;\n",
              "      border: none;\n",
              "      border-radius: 50%;\n",
              "      cursor: pointer;\n",
              "      display: none;\n",
              "      fill: #1967D2;\n",
              "      height: 32px;\n",
              "      padding: 0 0 0 0;\n",
              "      width: 32px;\n",
              "    }\n",
              "\n",
              "    .colab-df-convert:hover {\n",
              "      background-color: #E2EBFA;\n",
              "      box-shadow: 0px 1px 2px rgba(60, 64, 67, 0.3), 0px 1px 3px 1px rgba(60, 64, 67, 0.15);\n",
              "      fill: #174EA6;\n",
              "    }\n",
              "\n",
              "    [theme=dark] .colab-df-convert {\n",
              "      background-color: #3B4455;\n",
              "      fill: #D2E3FC;\n",
              "    }\n",
              "\n",
              "    [theme=dark] .colab-df-convert:hover {\n",
              "      background-color: #434B5C;\n",
              "      box-shadow: 0px 1px 3px 1px rgba(0, 0, 0, 0.15);\n",
              "      filter: drop-shadow(0px 1px 2px rgba(0, 0, 0, 0.3));\n",
              "      fill: #FFFFFF;\n",
              "    }\n",
              "  </style>\n",
              "\n",
              "      <script>\n",
              "        const buttonEl =\n",
              "          document.querySelector('#df-ad7adc69-4d0d-4010-bfbf-76fa4bbcb20c button.colab-df-convert');\n",
              "        buttonEl.style.display =\n",
              "          google.colab.kernel.accessAllowed ? 'block' : 'none';\n",
              "\n",
              "        async function convertToInteractive(key) {\n",
              "          const element = document.querySelector('#df-ad7adc69-4d0d-4010-bfbf-76fa4bbcb20c');\n",
              "          const dataTable =\n",
              "            await google.colab.kernel.invokeFunction('convertToInteractive',\n",
              "                                                     [key], {});\n",
              "          if (!dataTable) return;\n",
              "\n",
              "          const docLinkHtml = 'Like what you see? Visit the ' +\n",
              "            '<a target=\"_blank\" href=https://colab.research.google.com/notebooks/data_table.ipynb>data table notebook</a>'\n",
              "            + ' to learn more about interactive tables.';\n",
              "          element.innerHTML = '';\n",
              "          dataTable['output_type'] = 'display_data';\n",
              "          await google.colab.output.renderOutput(dataTable, element);\n",
              "          const docLink = document.createElement('div');\n",
              "          docLink.innerHTML = docLinkHtml;\n",
              "          element.appendChild(docLink);\n",
              "        }\n",
              "      </script>\n",
              "    </div>\n",
              "  </div>\n",
              "  "
            ]
          },
          "metadata": {},
          "execution_count": 13
        }
      ]
    },
    {
      "cell_type": "code",
      "source": [
        "pbp.columns"
      ],
      "metadata": {
        "colab": {
          "base_uri": "https://localhost:8080/"
        },
        "id": "zItvqsang3Xq",
        "outputId": "96a41f41-38bd-4c56-c0c9-f4ee0ef8e557"
      },
      "execution_count": null,
      "outputs": [
        {
          "output_type": "execute_result",
          "data": {
            "text/plain": [
              "Index(['play_id', 'game_id', 'old_game_id', 'home_team', 'away_team',\n",
              "       'season_type', 'week', 'posteam', 'posteam_type', 'defteam',\n",
              "       ...\n",
              "       'offense_formation', 'offense_personnel', 'defenders_in_box',\n",
              "       'defense_personnel', 'number_of_pass_rushers', 'players_on_play',\n",
              "       'offense_players', 'defense_players', 'n_offense', 'n_defense'],\n",
              "      dtype='object', length=384)"
            ]
          },
          "metadata": {},
          "execution_count": 15
        }
      ]
    },
    {
      "cell_type": "code",
      "source": [
        "pbp.dtypes"
      ],
      "metadata": {
        "colab": {
          "base_uri": "https://localhost:8080/"
        },
        "id": "ItUbqmwThP7l",
        "outputId": "b24186e6-b3ed-430b-b783-28d69c01b260"
      },
      "execution_count": null,
      "outputs": [
        {
          "output_type": "execute_result",
          "data": {
            "text/plain": [
              "play_id            float32\n",
              "game_id             object\n",
              "old_game_id         object\n",
              "home_team           object\n",
              "away_team           object\n",
              "                    ...   \n",
              "players_on_play     object\n",
              "offense_players     object\n",
              "defense_players     object\n",
              "n_offense          float32\n",
              "n_defense          float32\n",
              "Length: 384, dtype: object"
            ]
          },
          "metadata": {},
          "execution_count": 17
        }
      ]
    },
    {
      "cell_type": "markdown",
      "source": [
        "#### Cleaning the Dataset\n",
        "\n"
      ],
      "metadata": {
        "id": "-63y9HdEhuhv"
      }
    },
    {
      "cell_type": "code",
      "source": [
        "pbp_rp = pbp[(pbp['pass'] == 1) | (pbp['rush'] == 1)]\n",
        "pbp_rp = pbp_rp.dropna(subset=['epa', 'posteam', 'defteam'])\n",
        "pbp_rp.shape"
      ],
      "metadata": {
        "colab": {
          "base_uri": "https://localhost:8080/"
        },
        "id": "zsLK-3G8hU1_",
        "outputId": "5d8ab3bf-8613-44e6-c11e-5a12bcc4b73a"
      },
      "execution_count": null,
      "outputs": [
        {
          "output_type": "execute_result",
          "data": {
            "text/plain": [
              "(35157, 384)"
            ]
          },
          "metadata": {},
          "execution_count": 32
        }
      ]
    },
    {
      "cell_type": "markdown",
      "source": [
        "#### Getting Stats"
      ],
      "metadata": {
        "id": "mpBP6QRsi9Df"
      }
    },
    {
      "cell_type": "code",
      "source": [
        "pass_epa = pbp_rp[(pbp_rp['pass'] == 1)].groupby('posteam')['epa'].mean().reset_index().rename(columns = {'epa' : 'pass_epa'})\n",
        "pass_epa.sort_values('pass_epa', ascending = False)"
      ],
      "metadata": {
        "colab": {
          "base_uri": "https://localhost:8080/",
          "height": 1000
        },
        "id": "swGoefRHh6g8",
        "outputId": "ea8e0b3e-1e3b-41f0-dcdc-a9e346ce826a"
      },
      "execution_count": null,
      "outputs": [
        {
          "output_type": "execute_result",
          "data": {
            "text/plain": [
              "   posteam  pass_epa\n",
              "15      KC  0.273619\n",
              "3      BUF  0.203724\n",
              "10     DET  0.174694\n",
              "28      SF  0.170883\n",
              "6      CIN  0.153751\n",
              "14     JAX  0.136224\n",
              "25     PHI  0.119230\n",
              "19     MIA  0.107628\n",
              "8      DAL  0.080521\n",
              "20     MIN  0.071991\n",
              "23     NYG  0.059794\n",
              "27     SEA  0.056992\n",
              "18      LV  0.052888\n",
              "29      TB  0.049948\n",
              "17     LAC  0.040018\n",
              "11      GB  0.037096\n",
              "22      NO  0.021559\n",
              "26     PIT  0.020692\n",
              "7      CLE  0.018411\n",
              "1      ATL  0.002979\n",
              "2      BAL -0.018676\n",
              "21      NE -0.028873\n",
              "30     TEN -0.032318\n",
              "31     WAS -0.048545\n",
              "9      DEN -0.050991\n",
              "4      CAR -0.063714\n",
              "5      CHI -0.074289\n",
              "0      ARI -0.079506\n",
              "24     NYJ -0.081393\n",
              "16      LA -0.095503\n",
              "13     IND -0.143097\n",
              "12     HOU -0.148610"
            ],
            "text/html": [
              "\n",
              "  <div id=\"df-646d464c-9252-4a83-a04e-6f0ddf5422cd\">\n",
              "    <div class=\"colab-df-container\">\n",
              "      <div>\n",
              "<style scoped>\n",
              "    .dataframe tbody tr th:only-of-type {\n",
              "        vertical-align: middle;\n",
              "    }\n",
              "\n",
              "    .dataframe tbody tr th {\n",
              "        vertical-align: top;\n",
              "    }\n",
              "\n",
              "    .dataframe thead th {\n",
              "        text-align: right;\n",
              "    }\n",
              "</style>\n",
              "<table border=\"1\" class=\"dataframe\">\n",
              "  <thead>\n",
              "    <tr style=\"text-align: right;\">\n",
              "      <th></th>\n",
              "      <th>posteam</th>\n",
              "      <th>pass_epa</th>\n",
              "    </tr>\n",
              "  </thead>\n",
              "  <tbody>\n",
              "    <tr>\n",
              "      <th>15</th>\n",
              "      <td>KC</td>\n",
              "      <td>0.273619</td>\n",
              "    </tr>\n",
              "    <tr>\n",
              "      <th>3</th>\n",
              "      <td>BUF</td>\n",
              "      <td>0.203724</td>\n",
              "    </tr>\n",
              "    <tr>\n",
              "      <th>10</th>\n",
              "      <td>DET</td>\n",
              "      <td>0.174694</td>\n",
              "    </tr>\n",
              "    <tr>\n",
              "      <th>28</th>\n",
              "      <td>SF</td>\n",
              "      <td>0.170883</td>\n",
              "    </tr>\n",
              "    <tr>\n",
              "      <th>6</th>\n",
              "      <td>CIN</td>\n",
              "      <td>0.153751</td>\n",
              "    </tr>\n",
              "    <tr>\n",
              "      <th>14</th>\n",
              "      <td>JAX</td>\n",
              "      <td>0.136224</td>\n",
              "    </tr>\n",
              "    <tr>\n",
              "      <th>25</th>\n",
              "      <td>PHI</td>\n",
              "      <td>0.119230</td>\n",
              "    </tr>\n",
              "    <tr>\n",
              "      <th>19</th>\n",
              "      <td>MIA</td>\n",
              "      <td>0.107628</td>\n",
              "    </tr>\n",
              "    <tr>\n",
              "      <th>8</th>\n",
              "      <td>DAL</td>\n",
              "      <td>0.080521</td>\n",
              "    </tr>\n",
              "    <tr>\n",
              "      <th>20</th>\n",
              "      <td>MIN</td>\n",
              "      <td>0.071991</td>\n",
              "    </tr>\n",
              "    <tr>\n",
              "      <th>23</th>\n",
              "      <td>NYG</td>\n",
              "      <td>0.059794</td>\n",
              "    </tr>\n",
              "    <tr>\n",
              "      <th>27</th>\n",
              "      <td>SEA</td>\n",
              "      <td>0.056992</td>\n",
              "    </tr>\n",
              "    <tr>\n",
              "      <th>18</th>\n",
              "      <td>LV</td>\n",
              "      <td>0.052888</td>\n",
              "    </tr>\n",
              "    <tr>\n",
              "      <th>29</th>\n",
              "      <td>TB</td>\n",
              "      <td>0.049948</td>\n",
              "    </tr>\n",
              "    <tr>\n",
              "      <th>17</th>\n",
              "      <td>LAC</td>\n",
              "      <td>0.040018</td>\n",
              "    </tr>\n",
              "    <tr>\n",
              "      <th>11</th>\n",
              "      <td>GB</td>\n",
              "      <td>0.037096</td>\n",
              "    </tr>\n",
              "    <tr>\n",
              "      <th>22</th>\n",
              "      <td>NO</td>\n",
              "      <td>0.021559</td>\n",
              "    </tr>\n",
              "    <tr>\n",
              "      <th>26</th>\n",
              "      <td>PIT</td>\n",
              "      <td>0.020692</td>\n",
              "    </tr>\n",
              "    <tr>\n",
              "      <th>7</th>\n",
              "      <td>CLE</td>\n",
              "      <td>0.018411</td>\n",
              "    </tr>\n",
              "    <tr>\n",
              "      <th>1</th>\n",
              "      <td>ATL</td>\n",
              "      <td>0.002979</td>\n",
              "    </tr>\n",
              "    <tr>\n",
              "      <th>2</th>\n",
              "      <td>BAL</td>\n",
              "      <td>-0.018676</td>\n",
              "    </tr>\n",
              "    <tr>\n",
              "      <th>21</th>\n",
              "      <td>NE</td>\n",
              "      <td>-0.028873</td>\n",
              "    </tr>\n",
              "    <tr>\n",
              "      <th>30</th>\n",
              "      <td>TEN</td>\n",
              "      <td>-0.032318</td>\n",
              "    </tr>\n",
              "    <tr>\n",
              "      <th>31</th>\n",
              "      <td>WAS</td>\n",
              "      <td>-0.048545</td>\n",
              "    </tr>\n",
              "    <tr>\n",
              "      <th>9</th>\n",
              "      <td>DEN</td>\n",
              "      <td>-0.050991</td>\n",
              "    </tr>\n",
              "    <tr>\n",
              "      <th>4</th>\n",
              "      <td>CAR</td>\n",
              "      <td>-0.063714</td>\n",
              "    </tr>\n",
              "    <tr>\n",
              "      <th>5</th>\n",
              "      <td>CHI</td>\n",
              "      <td>-0.074289</td>\n",
              "    </tr>\n",
              "    <tr>\n",
              "      <th>0</th>\n",
              "      <td>ARI</td>\n",
              "      <td>-0.079506</td>\n",
              "    </tr>\n",
              "    <tr>\n",
              "      <th>24</th>\n",
              "      <td>NYJ</td>\n",
              "      <td>-0.081393</td>\n",
              "    </tr>\n",
              "    <tr>\n",
              "      <th>16</th>\n",
              "      <td>LA</td>\n",
              "      <td>-0.095503</td>\n",
              "    </tr>\n",
              "    <tr>\n",
              "      <th>13</th>\n",
              "      <td>IND</td>\n",
              "      <td>-0.143097</td>\n",
              "    </tr>\n",
              "    <tr>\n",
              "      <th>12</th>\n",
              "      <td>HOU</td>\n",
              "      <td>-0.148610</td>\n",
              "    </tr>\n",
              "  </tbody>\n",
              "</table>\n",
              "</div>\n",
              "      <button class=\"colab-df-convert\" onclick=\"convertToInteractive('df-646d464c-9252-4a83-a04e-6f0ddf5422cd')\"\n",
              "              title=\"Convert this dataframe to an interactive table.\"\n",
              "              style=\"display:none;\">\n",
              "        \n",
              "  <svg xmlns=\"http://www.w3.org/2000/svg\" height=\"24px\"viewBox=\"0 0 24 24\"\n",
              "       width=\"24px\">\n",
              "    <path d=\"M0 0h24v24H0V0z\" fill=\"none\"/>\n",
              "    <path d=\"M18.56 5.44l.94 2.06.94-2.06 2.06-.94-2.06-.94-.94-2.06-.94 2.06-2.06.94zm-11 1L8.5 8.5l.94-2.06 2.06-.94-2.06-.94L8.5 2.5l-.94 2.06-2.06.94zm10 10l.94 2.06.94-2.06 2.06-.94-2.06-.94-.94-2.06-.94 2.06-2.06.94z\"/><path d=\"M17.41 7.96l-1.37-1.37c-.4-.4-.92-.59-1.43-.59-.52 0-1.04.2-1.43.59L10.3 9.45l-7.72 7.72c-.78.78-.78 2.05 0 2.83L4 21.41c.39.39.9.59 1.41.59.51 0 1.02-.2 1.41-.59l7.78-7.78 2.81-2.81c.8-.78.8-2.07 0-2.86zM5.41 20L4 18.59l7.72-7.72 1.47 1.35L5.41 20z\"/>\n",
              "  </svg>\n",
              "      </button>\n",
              "      \n",
              "  <style>\n",
              "    .colab-df-container {\n",
              "      display:flex;\n",
              "      flex-wrap:wrap;\n",
              "      gap: 12px;\n",
              "    }\n",
              "\n",
              "    .colab-df-convert {\n",
              "      background-color: #E8F0FE;\n",
              "      border: none;\n",
              "      border-radius: 50%;\n",
              "      cursor: pointer;\n",
              "      display: none;\n",
              "      fill: #1967D2;\n",
              "      height: 32px;\n",
              "      padding: 0 0 0 0;\n",
              "      width: 32px;\n",
              "    }\n",
              "\n",
              "    .colab-df-convert:hover {\n",
              "      background-color: #E2EBFA;\n",
              "      box-shadow: 0px 1px 2px rgba(60, 64, 67, 0.3), 0px 1px 3px 1px rgba(60, 64, 67, 0.15);\n",
              "      fill: #174EA6;\n",
              "    }\n",
              "\n",
              "    [theme=dark] .colab-df-convert {\n",
              "      background-color: #3B4455;\n",
              "      fill: #D2E3FC;\n",
              "    }\n",
              "\n",
              "    [theme=dark] .colab-df-convert:hover {\n",
              "      background-color: #434B5C;\n",
              "      box-shadow: 0px 1px 3px 1px rgba(0, 0, 0, 0.15);\n",
              "      filter: drop-shadow(0px 1px 2px rgba(0, 0, 0, 0.3));\n",
              "      fill: #FFFFFF;\n",
              "    }\n",
              "  </style>\n",
              "\n",
              "      <script>\n",
              "        const buttonEl =\n",
              "          document.querySelector('#df-646d464c-9252-4a83-a04e-6f0ddf5422cd button.colab-df-convert');\n",
              "        buttonEl.style.display =\n",
              "          google.colab.kernel.accessAllowed ? 'block' : 'none';\n",
              "\n",
              "        async function convertToInteractive(key) {\n",
              "          const element = document.querySelector('#df-646d464c-9252-4a83-a04e-6f0ddf5422cd');\n",
              "          const dataTable =\n",
              "            await google.colab.kernel.invokeFunction('convertToInteractive',\n",
              "                                                     [key], {});\n",
              "          if (!dataTable) return;\n",
              "\n",
              "          const docLinkHtml = 'Like what you see? Visit the ' +\n",
              "            '<a target=\"_blank\" href=https://colab.research.google.com/notebooks/data_table.ipynb>data table notebook</a>'\n",
              "            + ' to learn more about interactive tables.';\n",
              "          element.innerHTML = '';\n",
              "          dataTable['output_type'] = 'display_data';\n",
              "          await google.colab.output.renderOutput(dataTable, element);\n",
              "          const docLink = document.createElement('div');\n",
              "          docLink.innerHTML = docLinkHtml;\n",
              "          element.appendChild(docLink);\n",
              "        }\n",
              "      </script>\n",
              "    </div>\n",
              "  </div>\n",
              "  "
            ]
          },
          "metadata": {},
          "execution_count": 38
        }
      ]
    },
    {
      "cell_type": "markdown",
      "source": [
        "#### Merging the stats together"
      ],
      "metadata": {
        "id": "X6OuatdrluDj"
      }
    },
    {
      "cell_type": "code",
      "source": [
        "rush_epa = pbp_rp[(pbp_rp['rush'] == 1)].groupby('posteam')['epa'].mean().reset_index().rename(columns = {'epa' : 'rush_epa'})\n",
        "epa = pd.merge(pass_epa, rush_epa, on = 'posteam')\n",
        "epa.head()"
      ],
      "metadata": {
        "colab": {
          "base_uri": "https://localhost:8080/",
          "height": 206
        },
        "id": "x7d94nDIiVWC",
        "outputId": "b3c3f428-0ab6-46b2-8196-236c8bc7a243"
      },
      "execution_count": null,
      "outputs": [
        {
          "output_type": "execute_result",
          "data": {
            "text/plain": [
              "  posteam  pass_epa  rush_epa\n",
              "0     ARI -0.079506 -0.079682\n",
              "1     ATL  0.002979  0.006186\n",
              "2     BAL -0.018676  0.036325\n",
              "3     BUF  0.203724 -0.063543\n",
              "4     CAR -0.063714 -0.006957"
            ],
            "text/html": [
              "\n",
              "  <div id=\"df-894fd4bc-9160-4a98-9343-cbadf5db4435\">\n",
              "    <div class=\"colab-df-container\">\n",
              "      <div>\n",
              "<style scoped>\n",
              "    .dataframe tbody tr th:only-of-type {\n",
              "        vertical-align: middle;\n",
              "    }\n",
              "\n",
              "    .dataframe tbody tr th {\n",
              "        vertical-align: top;\n",
              "    }\n",
              "\n",
              "    .dataframe thead th {\n",
              "        text-align: right;\n",
              "    }\n",
              "</style>\n",
              "<table border=\"1\" class=\"dataframe\">\n",
              "  <thead>\n",
              "    <tr style=\"text-align: right;\">\n",
              "      <th></th>\n",
              "      <th>posteam</th>\n",
              "      <th>pass_epa</th>\n",
              "      <th>rush_epa</th>\n",
              "    </tr>\n",
              "  </thead>\n",
              "  <tbody>\n",
              "    <tr>\n",
              "      <th>0</th>\n",
              "      <td>ARI</td>\n",
              "      <td>-0.079506</td>\n",
              "      <td>-0.079682</td>\n",
              "    </tr>\n",
              "    <tr>\n",
              "      <th>1</th>\n",
              "      <td>ATL</td>\n",
              "      <td>0.002979</td>\n",
              "      <td>0.006186</td>\n",
              "    </tr>\n",
              "    <tr>\n",
              "      <th>2</th>\n",
              "      <td>BAL</td>\n",
              "      <td>-0.018676</td>\n",
              "      <td>0.036325</td>\n",
              "    </tr>\n",
              "    <tr>\n",
              "      <th>3</th>\n",
              "      <td>BUF</td>\n",
              "      <td>0.203724</td>\n",
              "      <td>-0.063543</td>\n",
              "    </tr>\n",
              "    <tr>\n",
              "      <th>4</th>\n",
              "      <td>CAR</td>\n",
              "      <td>-0.063714</td>\n",
              "      <td>-0.006957</td>\n",
              "    </tr>\n",
              "  </tbody>\n",
              "</table>\n",
              "</div>\n",
              "      <button class=\"colab-df-convert\" onclick=\"convertToInteractive('df-894fd4bc-9160-4a98-9343-cbadf5db4435')\"\n",
              "              title=\"Convert this dataframe to an interactive table.\"\n",
              "              style=\"display:none;\">\n",
              "        \n",
              "  <svg xmlns=\"http://www.w3.org/2000/svg\" height=\"24px\"viewBox=\"0 0 24 24\"\n",
              "       width=\"24px\">\n",
              "    <path d=\"M0 0h24v24H0V0z\" fill=\"none\"/>\n",
              "    <path d=\"M18.56 5.44l.94 2.06.94-2.06 2.06-.94-2.06-.94-.94-2.06-.94 2.06-2.06.94zm-11 1L8.5 8.5l.94-2.06 2.06-.94-2.06-.94L8.5 2.5l-.94 2.06-2.06.94zm10 10l.94 2.06.94-2.06 2.06-.94-2.06-.94-.94-2.06-.94 2.06-2.06.94z\"/><path d=\"M17.41 7.96l-1.37-1.37c-.4-.4-.92-.59-1.43-.59-.52 0-1.04.2-1.43.59L10.3 9.45l-7.72 7.72c-.78.78-.78 2.05 0 2.83L4 21.41c.39.39.9.59 1.41.59.51 0 1.02-.2 1.41-.59l7.78-7.78 2.81-2.81c.8-.78.8-2.07 0-2.86zM5.41 20L4 18.59l7.72-7.72 1.47 1.35L5.41 20z\"/>\n",
              "  </svg>\n",
              "      </button>\n",
              "      \n",
              "  <style>\n",
              "    .colab-df-container {\n",
              "      display:flex;\n",
              "      flex-wrap:wrap;\n",
              "      gap: 12px;\n",
              "    }\n",
              "\n",
              "    .colab-df-convert {\n",
              "      background-color: #E8F0FE;\n",
              "      border: none;\n",
              "      border-radius: 50%;\n",
              "      cursor: pointer;\n",
              "      display: none;\n",
              "      fill: #1967D2;\n",
              "      height: 32px;\n",
              "      padding: 0 0 0 0;\n",
              "      width: 32px;\n",
              "    }\n",
              "\n",
              "    .colab-df-convert:hover {\n",
              "      background-color: #E2EBFA;\n",
              "      box-shadow: 0px 1px 2px rgba(60, 64, 67, 0.3), 0px 1px 3px 1px rgba(60, 64, 67, 0.15);\n",
              "      fill: #174EA6;\n",
              "    }\n",
              "\n",
              "    [theme=dark] .colab-df-convert {\n",
              "      background-color: #3B4455;\n",
              "      fill: #D2E3FC;\n",
              "    }\n",
              "\n",
              "    [theme=dark] .colab-df-convert:hover {\n",
              "      background-color: #434B5C;\n",
              "      box-shadow: 0px 1px 3px 1px rgba(0, 0, 0, 0.15);\n",
              "      filter: drop-shadow(0px 1px 2px rgba(0, 0, 0, 0.3));\n",
              "      fill: #FFFFFF;\n",
              "    }\n",
              "  </style>\n",
              "\n",
              "      <script>\n",
              "        const buttonEl =\n",
              "          document.querySelector('#df-894fd4bc-9160-4a98-9343-cbadf5db4435 button.colab-df-convert');\n",
              "        buttonEl.style.display =\n",
              "          google.colab.kernel.accessAllowed ? 'block' : 'none';\n",
              "\n",
              "        async function convertToInteractive(key) {\n",
              "          const element = document.querySelector('#df-894fd4bc-9160-4a98-9343-cbadf5db4435');\n",
              "          const dataTable =\n",
              "            await google.colab.kernel.invokeFunction('convertToInteractive',\n",
              "                                                     [key], {});\n",
              "          if (!dataTable) return;\n",
              "\n",
              "          const docLinkHtml = 'Like what you see? Visit the ' +\n",
              "            '<a target=\"_blank\" href=https://colab.research.google.com/notebooks/data_table.ipynb>data table notebook</a>'\n",
              "            + ' to learn more about interactive tables.';\n",
              "          element.innerHTML = '';\n",
              "          dataTable['output_type'] = 'display_data';\n",
              "          await google.colab.output.renderOutput(dataTable, element);\n",
              "          const docLink = document.createElement('div');\n",
              "          docLink.innerHTML = docLinkHtml;\n",
              "          element.appendChild(docLink);\n",
              "        }\n",
              "      </script>\n",
              "    </div>\n",
              "  </div>\n",
              "  "
            ]
          },
          "metadata": {},
          "execution_count": 41
        }
      ]
    },
    {
      "cell_type": "markdown",
      "source": [
        "#### Loading in the Logos"
      ],
      "metadata": {
        "id": "1Z9c6oT4lwEI"
      }
    },
    {
      "cell_type": "code",
      "source": [
        "logos = nfl.import_team_desc()[['team_abbr', 'team_logo_espn']]\n",
        "logos.head()"
      ],
      "metadata": {
        "colab": {
          "base_uri": "https://localhost:8080/",
          "height": 206
        },
        "id": "hCm8dfW_jjFO",
        "outputId": "eca7f514-129c-42db-cae1-10df2224df79"
      },
      "execution_count": null,
      "outputs": [
        {
          "output_type": "execute_result",
          "data": {
            "text/plain": [
              "  team_abbr                                     team_logo_espn\n",
              "0       ARI  https://a.espncdn.com/i/teamlogos/nfl/500/ari.png\n",
              "1       ATL  https://a.espncdn.com/i/teamlogos/nfl/500/atl.png\n",
              "2       BAL  https://a.espncdn.com/i/teamlogos/nfl/500/bal.png\n",
              "3       BUF  https://a.espncdn.com/i/teamlogos/nfl/500/buf.png\n",
              "4       CAR  https://a.espncdn.com/i/teamlogos/nfl/500-dark..."
            ],
            "text/html": [
              "\n",
              "  <div id=\"df-9d80afb0-153b-43cc-9a6c-f6fd376f144d\">\n",
              "    <div class=\"colab-df-container\">\n",
              "      <div>\n",
              "<style scoped>\n",
              "    .dataframe tbody tr th:only-of-type {\n",
              "        vertical-align: middle;\n",
              "    }\n",
              "\n",
              "    .dataframe tbody tr th {\n",
              "        vertical-align: top;\n",
              "    }\n",
              "\n",
              "    .dataframe thead th {\n",
              "        text-align: right;\n",
              "    }\n",
              "</style>\n",
              "<table border=\"1\" class=\"dataframe\">\n",
              "  <thead>\n",
              "    <tr style=\"text-align: right;\">\n",
              "      <th></th>\n",
              "      <th>team_abbr</th>\n",
              "      <th>team_logo_espn</th>\n",
              "    </tr>\n",
              "  </thead>\n",
              "  <tbody>\n",
              "    <tr>\n",
              "      <th>0</th>\n",
              "      <td>ARI</td>\n",
              "      <td>https://a.espncdn.com/i/teamlogos/nfl/500/ari.png</td>\n",
              "    </tr>\n",
              "    <tr>\n",
              "      <th>1</th>\n",
              "      <td>ATL</td>\n",
              "      <td>https://a.espncdn.com/i/teamlogos/nfl/500/atl.png</td>\n",
              "    </tr>\n",
              "    <tr>\n",
              "      <th>2</th>\n",
              "      <td>BAL</td>\n",
              "      <td>https://a.espncdn.com/i/teamlogos/nfl/500/bal.png</td>\n",
              "    </tr>\n",
              "    <tr>\n",
              "      <th>3</th>\n",
              "      <td>BUF</td>\n",
              "      <td>https://a.espncdn.com/i/teamlogos/nfl/500/buf.png</td>\n",
              "    </tr>\n",
              "    <tr>\n",
              "      <th>4</th>\n",
              "      <td>CAR</td>\n",
              "      <td>https://a.espncdn.com/i/teamlogos/nfl/500-dark...</td>\n",
              "    </tr>\n",
              "  </tbody>\n",
              "</table>\n",
              "</div>\n",
              "      <button class=\"colab-df-convert\" onclick=\"convertToInteractive('df-9d80afb0-153b-43cc-9a6c-f6fd376f144d')\"\n",
              "              title=\"Convert this dataframe to an interactive table.\"\n",
              "              style=\"display:none;\">\n",
              "        \n",
              "  <svg xmlns=\"http://www.w3.org/2000/svg\" height=\"24px\"viewBox=\"0 0 24 24\"\n",
              "       width=\"24px\">\n",
              "    <path d=\"M0 0h24v24H0V0z\" fill=\"none\"/>\n",
              "    <path d=\"M18.56 5.44l.94 2.06.94-2.06 2.06-.94-2.06-.94-.94-2.06-.94 2.06-2.06.94zm-11 1L8.5 8.5l.94-2.06 2.06-.94-2.06-.94L8.5 2.5l-.94 2.06-2.06.94zm10 10l.94 2.06.94-2.06 2.06-.94-2.06-.94-.94-2.06-.94 2.06-2.06.94z\"/><path d=\"M17.41 7.96l-1.37-1.37c-.4-.4-.92-.59-1.43-.59-.52 0-1.04.2-1.43.59L10.3 9.45l-7.72 7.72c-.78.78-.78 2.05 0 2.83L4 21.41c.39.39.9.59 1.41.59.51 0 1.02-.2 1.41-.59l7.78-7.78 2.81-2.81c.8-.78.8-2.07 0-2.86zM5.41 20L4 18.59l7.72-7.72 1.47 1.35L5.41 20z\"/>\n",
              "  </svg>\n",
              "      </button>\n",
              "      \n",
              "  <style>\n",
              "    .colab-df-container {\n",
              "      display:flex;\n",
              "      flex-wrap:wrap;\n",
              "      gap: 12px;\n",
              "    }\n",
              "\n",
              "    .colab-df-convert {\n",
              "      background-color: #E8F0FE;\n",
              "      border: none;\n",
              "      border-radius: 50%;\n",
              "      cursor: pointer;\n",
              "      display: none;\n",
              "      fill: #1967D2;\n",
              "      height: 32px;\n",
              "      padding: 0 0 0 0;\n",
              "      width: 32px;\n",
              "    }\n",
              "\n",
              "    .colab-df-convert:hover {\n",
              "      background-color: #E2EBFA;\n",
              "      box-shadow: 0px 1px 2px rgba(60, 64, 67, 0.3), 0px 1px 3px 1px rgba(60, 64, 67, 0.15);\n",
              "      fill: #174EA6;\n",
              "    }\n",
              "\n",
              "    [theme=dark] .colab-df-convert {\n",
              "      background-color: #3B4455;\n",
              "      fill: #D2E3FC;\n",
              "    }\n",
              "\n",
              "    [theme=dark] .colab-df-convert:hover {\n",
              "      background-color: #434B5C;\n",
              "      box-shadow: 0px 1px 3px 1px rgba(0, 0, 0, 0.15);\n",
              "      filter: drop-shadow(0px 1px 2px rgba(0, 0, 0, 0.3));\n",
              "      fill: #FFFFFF;\n",
              "    }\n",
              "  </style>\n",
              "\n",
              "      <script>\n",
              "        const buttonEl =\n",
              "          document.querySelector('#df-9d80afb0-153b-43cc-9a6c-f6fd376f144d button.colab-df-convert');\n",
              "        buttonEl.style.display =\n",
              "          google.colab.kernel.accessAllowed ? 'block' : 'none';\n",
              "\n",
              "        async function convertToInteractive(key) {\n",
              "          const element = document.querySelector('#df-9d80afb0-153b-43cc-9a6c-f6fd376f144d');\n",
              "          const dataTable =\n",
              "            await google.colab.kernel.invokeFunction('convertToInteractive',\n",
              "                                                     [key], {});\n",
              "          if (!dataTable) return;\n",
              "\n",
              "          const docLinkHtml = 'Like what you see? Visit the ' +\n",
              "            '<a target=\"_blank\" href=https://colab.research.google.com/notebooks/data_table.ipynb>data table notebook</a>'\n",
              "            + ' to learn more about interactive tables.';\n",
              "          element.innerHTML = '';\n",
              "          dataTable['output_type'] = 'display_data';\n",
              "          await google.colab.output.renderOutput(dataTable, element);\n",
              "          const docLink = document.createElement('div');\n",
              "          docLink.innerHTML = docLinkHtml;\n",
              "          element.appendChild(docLink);\n",
              "        }\n",
              "      </script>\n",
              "    </div>\n",
              "  </div>\n",
              "  "
            ]
          },
          "metadata": {},
          "execution_count": 53
        }
      ]
    },
    {
      "cell_type": "code",
      "source": [
        "logo_paths = []\n",
        "team_abbr = []\n",
        "if not os.path.exists(\"logos\"):\n",
        "    os.makedirs(\"logos\")\n",
        "\n",
        "for team in range(len(logos)):\n",
        "    urllib.request.urlretrieve(logos['team_logo_espn'][team], f\"logos/{logos['team_abbr'][team]}.tif\")\n",
        "    logo_paths.append(f\"logos/{logos['team_abbr'][team]}.tif\")\n",
        "    team_abbr.append(logos['team_abbr'][team])\n",
        "\n",
        "data = {'team_abbr' : team_abbr, 'logo_path' : logo_paths}\n",
        "logo_data = pd.DataFrame(data)\n",
        "\n",
        "epa_with_logos = pd.merge(epa, logo_data, left_on = 'posteam', right_on = 'team_abbr')"
      ],
      "metadata": {
        "id": "uLKyH9dKmGKQ"
      },
      "execution_count": null,
      "outputs": []
    },
    {
      "cell_type": "markdown",
      "source": [
        "#### Create the Graph"
      ],
      "metadata": {
        "id": "6R5IN8YZnQoW"
      }
    },
    {
      "cell_type": "code",
      "source": [
        "plt.rcParams[\"figure.figsize\"] = [10, 7]\n",
        "plt.rcParams[\"figure.autolayout\"] = True\n",
        "\n",
        "def getImage(path):\n",
        "    return OffsetImage(plt.imread(path, format=\"tif\"), zoom=.1)\n",
        "\n",
        "x = epa_with_logos['pass_epa']\n",
        "y = epa_with_logos['rush_epa']\n",
        "paths = epa_with_logos['logo_path']\n",
        "\n",
        "fig, ax = plt.subplots()\n",
        "\n",
        "for x0, y0, path in zip(x, y, paths):\n",
        "   ab = AnnotationBbox(getImage(path), (x0, y0), frameon=False)\n",
        "   ax.add_artist(ab)\n",
        "\n",
        "plt.xlim(-0.2, 0.3)\n",
        "plt.ylim(-0.25, 0.15)\n",
        "plt.title(\"Rush and Pass EPA, 2022\")\n",
        "plt.xlabel(\"EPA/Pass\")\n",
        "plt.ylabel(\"EPA/Rush\")\n",
        "plt.show()"
      ],
      "metadata": {
        "colab": {
          "base_uri": "https://localhost:8080/",
          "height": 513
        },
        "id": "NsoXfL1PmjbS",
        "outputId": "eb986e85-dedd-4ad3-b156-43cc442e7427"
      },
      "execution_count": null,
      "outputs": [
        {
          "output_type": "display_data",
          "data": {
            "text/plain": [
              "<Figure size 720x504 with 1 Axes>"
            ],
            "image/png": "[encoded data removed]"
          },
          "metadata": {
            "needs_background": "light"
          }
        }
      ]
    },
    {
      "cell_type": "markdown",
      "source": [
        "#### Putting Together Data for a Bar Graph"
      ],
      "metadata": {
        "id": "lUqVO0HQpZw_"
      }
    },
    {
      "cell_type": "code",
      "source": [
        "receiver_yac = pbp_rp[(pbp_rp['pass'] == 1)].groupby('receiver_player_name').agg({'pass': 'count',\n",
        "        'yards_after_catch': 'sum'}).reset_index().rename(columns = {'pass' : 'targets', 'yards_after_catch' : 'yac'})\n",
        "receiver_yac = receiver_yac[(receiver_yac['targets'] >= 100)]\n",
        "receiver_yac.sort_values('yac', inplace = True)"
      ],
      "metadata": {
        "id": "n70yVROenV4P"
      },
      "execution_count": null,
      "outputs": []
    },
    {
      "cell_type": "code",
      "source": [
        "name = receiver_yac['receiver_player_name']\n",
        "yac = receiver_yac['yac']\n",
        "\n",
        "fig, ax = plt.subplots(figsize=(10, 7))\n",
        "\n",
        "ax.barh(name, yac)\n",
        "ax.set_title(\"Yards After Catch, 2022\")\n",
        "ax.set_xlabel(\"YAC\")\n",
        "plt.show()"
      ],
      "metadata": {
        "colab": {
          "base_uri": "https://localhost:8080/",
          "height": 513
        },
        "id": "J64uOJGysGc-",
        "outputId": "170925ad-e6a9-4e5f-ccd4-f7baea4fa6de"
      },
      "execution_count": null,
      "outputs": [
        {
          "output_type": "display_data",
          "data": {
            "text/plain": [
              "<Figure size 720x504 with 1 Axes>"
            ],
            "image/png": "[encoded data removed]"
          },
          "metadata": {
            "needs_background": "light"
          }
        }
      ]
    },
    {
      "cell_type": "code",
      "source": [],
      "metadata": {
        "id": "buv3JsFPtI4q"
      },
      "execution_count": null,
      "outputs": []
    }
  ]
}